{
 "cells": [
  {
   "cell_type": "code",
   "execution_count": 7,
   "metadata": {},
   "outputs": [],
   "source": [
    "import git\n",
    "from git import Repo"
   ]
  },
  {
   "cell_type": "code",
   "execution_count": 8,
   "metadata": {},
   "outputs": [],
   "source": [
    "path_to_folders = \"activemq\"\n",
    "repo = Repo(path_to_folders)\n",
    "fixing_commit = \"6f03921b31d9fefeddb0f4fa63150ed1f94a14b\""
   ]
  },
  {
   "cell_type": "code",
   "execution_count": 9,
   "metadata": {},
   "outputs": [
    {
     "name": "stdout",
     "output_type": "stream",
     "text": [
      "activemq-client/src/main/java/org/apache/activemq/util/ClassLoadingAwareObjectInputStream.java\n",
      "activemq-http/src/main/java/org/apache/activemq/transport/xstream/XStreamWireFormat.java\n",
      "activemq-stomp/src/main/java/org/apache/activemq/transport/stomp/JmsFrameTranslator.java\n",
      "activemq-stomp/src/main/java/org/apache/activemq/transport/stomp/XStreamSupport.java\n",
      "activemq-stomp/src/test/java/org/apache/activemq/transport/stomp/StompTestSupport.java\n",
      "activemq-stomp/src/test/java/org/apache/activemq/transport/stomp/util/XStreamBrokerContext.java\n",
      "activemq-web/src/main/java/org/apache/activemq/web/MessageQuery.java\n"
     ]
    }
   ],
   "source": [
    "#find changed files \n",
    "show_data = repo.git.show(\"--stat=200\", fixing_commit).splitlines()\n",
    "file_paths = []\n",
    "file_paths_count = 0\n",
    "for line in show_data:\n",
    "    if \"activemq\" in line: \n",
    "        line = line.split('|')[0]\n",
    "        line = line.strip()\n",
    "        file_paths.append(line)\n",
    "        file_paths_count = file_paths_count+1\n",
    "\n",
    "for line in file_paths:\n",
    "    print(line)"
   ]
  },
  {
   "cell_type": "code",
   "execution_count": 10,
   "metadata": {},
   "outputs": [
    {
     "name": "stdout",
     "output_type": "stream",
     "text": [
      "return load(classDesc.getName(), cl, inLoader);\n",
      "return Proxy.getProxyClass(cl, cinterfaces);\n",
      "return Proxy.getProxyClass(inLoader, cinterfaces);\n",
      "return Proxy.getProxyClass(FALLBACK_CLASS_LOADER, cinterfaces);\n",
      "throw new ClassNotFoundException(null, e);\n"
     ]
    }
   ],
   "source": [
    "deleted_lines = [[] for i in range(file_paths_count)]\n",
    "\n",
    "count = -1\n",
    "for file in file_paths:\n",
    "    count = count + 1\n",
    "    #find changed lines \n",
    "    show_data = repo.git.show(fixing_commit, file).splitlines()\n",
    "    for line in show_data:\n",
    "        if line.startswith(\"- \"):\n",
    "            line = line.split('-')[1]\n",
    "            line = line.strip()\n",
    "            if line != \"//\":\n",
    "                deleted_lines[count].append(line)\n",
    "\n",
    "for line in deleted_lines[0]:\n",
    "    print(line)"
   ]
  },
  {
   "cell_type": "code",
   "execution_count": 11,
   "metadata": {},
   "outputs": [
    {
     "name": "stdout",
     "output_type": "stream",
     "text": [
      " \n",
      "activemq-client/src/main/java/org/apache/activemq/util/ClassLoadingAwareObjectInputStream.java\n",
      "9a8f6e415db43a4e43ad42a87b3617b3641aa07d\n",
      "9a8f6e415db43a4e43ad42a87b3617b3641aa07d\n",
      "9a8f6e415db43a4e43ad42a87b3617b3641aa07d\n",
      "9a8f6e415db43a4e43ad42a87b3617b3641aa07d\n",
      "9a8f6e415db43a4e43ad42a87b3617b3641aa07d\n",
      " \n",
      "activemq-http/src/main/java/org/apache/activemq/transport/xstream/XStreamWireFormat.java\n",
      "9a1ad8c8b32a90ec45bb4ade507bc0168550e259\n",
      "5e5458ec38f7a204bb40174e13262c7b892de89b\n",
      " \n",
      "activemq-stomp/src/main/java/org/apache/activemq/transport/stomp/JmsFrameTranslator.java\n",
      "c5cf03806d646045e01f6cd382504fa73dedfeee\n",
      "c5cf03806d646045e01f6cd382504fa73dedfeee\n",
      " \n",
      "activemq-stomp/src/main/java/org/apache/activemq/transport/stomp/XStreamSupport.java\n",
      " \n",
      "activemq-stomp/src/test/java/org/apache/activemq/transport/stomp/StompTestSupport.java\n",
      "1236bbf6f455f429d3c1c5996474381a6a649d4e\n",
      " \n",
      "activemq-stomp/src/test/java/org/apache/activemq/transport/stomp/util/XStreamBrokerContext.java\n",
      "1236bbf6f455f429d3c1c5996474381a6a649d4e\n",
      " \n",
      "activemq-web/src/main/java/org/apache/activemq/web/MessageQuery.java\n",
      "7b16aec2c0edec1bff95245900e702811aa3a718\n",
      "7b16aec2c0edec1bff95245900e702811aa3a718\n"
     ]
    }
   ],
   "source": [
    "fixing_commit_list_deleted = []\n",
    "count = -1\n",
    "for file in file_paths:\n",
    "    count = count + 1\n",
    "    print(\" \")\n",
    "    print(file)\n",
    "    for line in deleted_lines[count]:\n",
    "        log_data = repo.git.log(fixing_commit+\"^1\",\"-S\", line, file).splitlines()\n",
    "        for line in log_data:\n",
    "            if \"commit\" in line:\n",
    "                line = line.split(' ')[1]\n",
    "                \n",
    "                print (line)"
   ]
  },
  {
   "cell_type": "code",
   "execution_count": null,
   "metadata": {},
   "outputs": [],
   "source": []
  },
  {
   "cell_type": "code",
   "execution_count": null,
   "metadata": {},
   "outputs": [],
   "source": []
  },
  {
   "cell_type": "code",
   "execution_count": null,
   "metadata": {},
   "outputs": [],
   "source": []
  }
 ],
 "metadata": {
  "kernelspec": {
   "display_name": "Python 3",
   "language": "python",
   "name": "python3"
  },
  "language_info": {
   "codemirror_mode": {
    "name": "ipython",
    "version": 3
   },
   "file_extension": ".py",
   "mimetype": "text/x-python",
   "name": "python",
   "nbconvert_exporter": "python",
   "pygments_lexer": "ipython3",
   "version": "3.7.0"
  }
 },
 "nbformat": 4,
 "nbformat_minor": 2
}
