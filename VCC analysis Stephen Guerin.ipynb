{
 "cells": [
  {
   "cell_type": "code",
   "execution_count": 120,
   "metadata": {},
   "outputs": [],
   "source": [
    "import git\n",
    "from git import Repo"
   ]
  },
  {
   "cell_type": "code",
   "execution_count": 123,
   "metadata": {},
   "outputs": [],
   "source": [
    "#uncomment for activemq\n",
    "\n",
    "path_to_folders = \"activemq\"\n",
    "vcc_commit = \"6f03921b31d9fefeddb0f4fa63150ed1f94a14b\" \n",
    "#vcc_commit = \"1236bbf6f455f429d3c1c5996474381a6a649d4e\" \n",
    "pathName = \"activemq\"\n",
    "repo = Repo(path_to_folders)\n",
    "\n",
    "#uncomment for orbeon\n",
    "\n",
    "# path_to_folders = \"orbeon-forms\"\n",
    "# vcc_commit = \"aba6681660f65af7f1676434da68c10298c30200\" \n",
    "# pathName = \"orbeon\"\n",
    "#repo = Repo(path_to_folders)\n",
    "\n",
    "#uncomment for openjpa\n",
    "\n",
    "# path_to_folders = \"openjpa\"\n",
    "# vcc_commit = \"87a4452be08b4f97274d0ccfac585ae85841e470\" \n",
    "# pathName = \"openjpa\"\n",
    "#repo = Repo(path_to_folders)\n",
    "\n"
   ]
  },
  {
   "cell_type": "code",
   "execution_count": 124,
   "metadata": {},
   "outputs": [],
   "source": [
    "#find changed files \n",
    "show_data = repo.git.show(\"--stat=200\", vcc_commit).splitlines()\n",
    "affected_files = []\n",
    "file_paths_count = 0\n",
    "for line in show_data:\n",
    "    if pathName in line: \n",
    "        line = line.split('|')[0]\n",
    "        line = line.strip()\n",
    "        affected_files.append(line)\n",
    "        file_paths_count = file_paths_count+1\n"
   ]
  },
  {
   "cell_type": "code",
   "execution_count": 125,
   "metadata": {},
   "outputs": [
    {
     "name": "stdout",
     "output_type": "stream",
     "text": [
      "commit 6f03921b31d9fefeddb0f4fa63150ed1f94a14b1\n",
      "Author: Dejan Bosanac <dejan@nighttale.net>\n",
      "Date:   Fri Oct 16 15:44:02 2015 +0200\n",
      "\n",
      "    https://issues.apache.org/jira/browse/AMQ-6013 - restrict classes which can be serialized inside the broker\n"
     ]
    }
   ],
   "source": [
    "#6a print commit message\n",
    "\n",
    "show_data = repo.git.show(\"-s\", vcc_commit).splitlines()\n",
    "for line in show_data:\n",
    "    print(line)"
   ]
  },
  {
   "cell_type": "code",
   "execution_count": 126,
   "metadata": {},
   "outputs": [
    {
     "name": "stdout",
     "output_type": "stream",
     "text": [
      "7 files changed\n"
     ]
    }
   ],
   "source": [
    "#6b print total files were affected in the current VCC\n",
    "print(str(len(affected_files)) + \" files changed\")"
   ]
  },
  {
   "cell_type": "code",
   "execution_count": 127,
   "metadata": {},
   "outputs": [
    {
     "name": "stdout",
     "output_type": "stream",
     "text": [
      "5 affected directories\n"
     ]
    }
   ],
   "source": [
    "#6c print total directories were affected in the current VCC\n",
    "affected_directories = []\n",
    "show_data = repo.git.show(\"--dirstat\", vcc_commit).splitlines()\n",
    "for line in show_data:\n",
    "    if '%' in line:   \n",
    "        line = line.split('%')[1]\n",
    "        line = line.strip()\n",
    "        affected_directories.append(line)\n",
    "        #print(line)\n",
    "\n",
    "print(str(len(affected_directories)) + \" affected directories\")"
   ]
  },
  {
   "cell_type": "code",
   "execution_count": 128,
   "metadata": {},
   "outputs": [
    {
     "name": "stdout",
     "output_type": "stream",
     "text": [
      "Total insertions inc comments and blank: 115\n",
      "Total deletions inc comments and blank: 15\n"
     ]
    }
   ],
   "source": [
    "#6d, 6e print number added and deleted lines (including comments and blank lines)\n",
    "\n",
    "lines_changed = repo.git.show(\"--pretty=tformat:\", \"--shortstat\", vcc_commit).splitlines()\n",
    "for line in lines_changed:\n",
    "    line = line.split()\n",
    "\n",
    "print(\"Total insertions inc comments and blank: \" + str(line[3]))\n",
    "print(\"Total deletions inc comments and blank: \" + str(line[5]))"
   ]
  },
  {
   "cell_type": "code",
   "execution_count": 129,
   "metadata": {},
   "outputs": [
    {
     "name": "stdout",
     "output_type": "stream",
     "text": [
      "ClassLoadingAwareObjectInputStream.java modified: 3 times\n",
      "XStreamWireFormat.java modified: 3 times\n",
      "JmsFrameTranslator.java modified: 7 times\n",
      "XStreamSupport.java modified: 1 times\n",
      "StompTestSupport.java modified: 6 times\n",
      "XStreamBrokerContext.java modified: 3 times\n",
      "MessageQuery.java modified: 7 times\n"
     ]
    }
   ],
   "source": [
    "#6i total number times each affected file of the current VCC been modified in the past since their creation \n",
    "for file in affected_files:\n",
    "    modified = repo.git.log(\"--format=%ad\", vcc_commit, \"--\", file).splitlines()\n",
    "    print(os.path.basename(file), \"modified:\", len(modified), \"times\")"
   ]
  },
  {
   "cell_type": "code",
   "execution_count": 136,
   "metadata": {},
   "outputs": [
    {
     "name": "stdout",
     "output_type": "stream",
     "text": [
      "\n",
      "ClassLoadingAwareObjectInputStream.java\n",
      "Dejan Bosanac\n",
      "Claus Ibsen\n",
      "Hiram R. Chirino\n",
      "\n",
      "XStreamWireFormat.java\n",
      "Dejan Bosanac\n",
      "Hiram R. Chirino\n",
      "Timothy Bish\n",
      "\n",
      "JmsFrameTranslator.java\n",
      "Bosanac Dejan\n",
      "Dejan Bosanac\n",
      "gtully\n",
      "Timothy Bish\n",
      "Hiram R. Chirino\n",
      "Timothy A. Bish\n",
      "\n",
      "XStreamSupport.java\n",
      "Dejan Bosanac\n",
      "\n",
      "StompTestSupport.java\n",
      "Dejan Bosanac\n",
      "Timothy A. Bish\n",
      "Timothy Bish\n",
      "\n",
      "XStreamBrokerContext.java\n",
      "Dejan Bosanac\n",
      "gtully\n",
      "Timothy A. Bish\n",
      "\n",
      "MessageQuery.java\n",
      "Robert Davies\n",
      "Bosanac Dejan\n",
      "James Strachan\n",
      "Dejan Bosanac\n",
      "Hiram R. Chirino\n",
      "Gary Tully\n",
      "Claus Ibsen\n"
     ]
    }
   ],
   "source": [
    "#6j what developers have modified each file since creation\n",
    "total_author_list = []\n",
    "\n",
    "for file in affected_files:\n",
    "    author_list = repo.git.log(\"--format=%an\", vcc_commit, \"--\", file).splitlines()\n",
    "    total_author_list = total_author_list + author_list\n",
    "    all_authors = list(set(author_list))\n",
    "    print(\"\")\n",
    "    print(os.path.basename(file))\n",
    "    for line in all_authors:\n",
    "        print(line)\n"
   ]
  },
  {
   "cell_type": "code",
   "execution_count": 138,
   "metadata": {},
   "outputs": [
    {
     "name": "stdout",
     "output_type": "stream",
     "text": [
      "avg num developers: 4.285714285714286\n",
      "total num developers: 10\n",
      "Robert Davies : 1182  Commits\n",
      "Bosanac Dejan : 942  Commits\n",
      "James Strachan : 916  Commits\n",
      "Dejan Bosanac : 113  Commits\n",
      "gtully : 1201  Commits\n",
      "Timothy Bish : 147  Commits\n",
      "Hiram R. Chirino : 1408  Commits\n",
      "Timothy A. Bish : 843  Commits\n",
      "Gary Tully : 1201  Commits\n",
      "Claus Ibsen : 137  Commits\n"
     ]
    }
   ],
   "source": [
    "#6k For each developer identified, how many commits have each of them submitted? \n",
    "commit_authors = repo.git.shortlog(\"-sne\", vcc_commit).splitlines()\n",
    "\n",
    "author_commits = []\n",
    "\n",
    "for commit_author in commit_authors:\n",
    "    commit, author = commit_author.split(\"\\t\")\n",
    "    author_commits.append([int(commit), author])\n",
    "\n",
    "num_file = len(affected_files)\n",
    "print(\"avg num developers: \"+ str(len(total_author_list)/num_file))\n",
    "total_author_list2 = list(set(total_author_list))\n",
    "\n",
    "print(\"total num developers: \" + str(len(total_author_list2)))\n",
    "df = pd.DataFrame(author_commits, columns=['Commit', 'Author'])\n",
    "\n",
    "for line in total_author_list2:\n",
    "    row = df[df[\"Author\"].str.contains(line)]\n",
    "    commits = row[\"Commit\"].iloc[0]\n",
    "    print(line, \":\", commits, \" Commits\")"
   ]
  },
  {
   "cell_type": "code",
   "execution_count": null,
   "metadata": {},
   "outputs": [],
   "source": []
  },
  {
   "cell_type": "code",
   "execution_count": null,
   "metadata": {},
   "outputs": [],
   "source": []
  },
  {
   "cell_type": "code",
   "execution_count": null,
   "metadata": {},
   "outputs": [],
   "source": []
  }
 ],
 "metadata": {
  "kernelspec": {
   "display_name": "Python 3",
   "language": "python",
   "name": "python3"
  },
  "language_info": {
   "codemirror_mode": {
    "name": "ipython",
    "version": 3
   },
   "file_extension": ".py",
   "mimetype": "text/x-python",
   "name": "python",
   "nbconvert_exporter": "python",
   "pygments_lexer": "ipython3",
   "version": "3.7.0"
  }
 },
 "nbformat": 4,
 "nbformat_minor": 2
}
